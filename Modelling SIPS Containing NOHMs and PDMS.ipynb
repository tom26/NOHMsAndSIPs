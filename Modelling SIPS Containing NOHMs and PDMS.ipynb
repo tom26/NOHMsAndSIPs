{
 "cells": [
  {
   "cell_type": "markdown",
   "metadata": {},
   "source": [
    "# Modelling SIPs Containing PDMS and NOHMs \n",
    "\n",
    "## Linear Coordinates\n",
    "\n",
    "In the model developed by Ho, W.S., Hatton, T.A., Lightfoot, E.N. and Li, N.N., 1982. Batch extraction with liquid surfactant membranes: a diffusion controlled model. AIChE Journal, 28(4), pp.662-670, the flux of gas entering the material is assumed to be controlled by resistance inside a 'saturated' zone, which slowly grows as it propagates from the surface. They developed their model for a spherical particle, but it is even simpler in linear coordinates, so we'll develop that first. \n",
    "\n",
    "### Linear Coordinates\n",
    "\n",
    "Suppose the saturated zone is of thickness $z$ (so the moving reaction front is a distance $z$ from the surface) and the physical concentration of $\\text{CO}_2$ in the *solid* PDMS phase of the SIP at the surface is $c^*$ (it turns out it's easier to base the calculations on the solid phase for this particular system.) Suppose also that the moving reaction front moves slow enough for a quasi-steady state assumption to be valid. Then the concentration gradient in the solid PDMS phase at the surface (and at all other points within the saturated zone) is given by:\n",
    "\n",
    "$$\n",
    "\\frac{\\partial c}{\\partial z}\\Bigg|_{z=0} = -\\frac{c^*}{z}\n",
    "$$\n",
    "\n",
    "Graphically, this is because the concentration profile decreases linearly within the saturated zone under quasi-steady state conditions, as seen in the Figure below. The concentration profile is linear in the saturated zone because there is no reaction in this zone (the solvent is completely saturated with CO2), and so the CO2 is simply diffusing through this region from the surface to the moving reaction front. The 'fresh' zone, on the other side of the reaction front, is completely unreacted, and is oblivious of the reaction front moving ominously towards it.\n",
    "\n",
    "<img src=\"Drawing1.png\", width=\"280\">\n",
    "\n",
    "The overall flux of gas at the surface into the SIP, accounting for flux into the polymer and flux into the liquid, is given by:\n",
    "\n",
    "$$\n",
    "\\text{Flux of CO2 at the Surface} = \\frac{c^*}{z} \\left(\\frac{(1-\\varepsilon)\\mathcal{P}_l + \\varepsilon\\mathcal{P}_s}{S_s}\\right)\n",
    "$$\n",
    "\n",
    "Where $\\mathcal{P}$ is the permeability in the solid or liquid, $\\mathcal{S}$ is the solubility in the solid or liquid, and $\\varepsilon$ is the volume fraction of the solid. On the other hand, as this CO2 is absorbed, the saturated zone slowly propagates into the material. The rate of propagation of the moving reaction front is given by:\n",
    "\n",
    "$$\n",
    "\\frac{dz}{dt} = \\frac{\\mathrm{Flux\\ of\\ CO_2}}{\\mathrm{Volumetric\\ CO_2\\ Capacity\\ of\\ Material}}\n",
    "$$\n",
    "\n",
    "If the capacity of the material is dominated by the solubility of CO2 chemically stored in the liquid (i.e. the *physical* solubility in the PDMS and in the liquid are ignored), then\n",
    "\n",
    "$$\n",
    "\\mathrm{Volumetric\\ CO_2\\ Capacity\\ of\\ Material} = (1-\\varepsilon) w_0\n",
    "$$\n",
    "\n",
    "where $w_0$ is the initial concentration of reactant in the liquid available to react with CO2. Overall, then,\n",
    "\n",
    "$$\n",
    "\\frac{dz}{dt} = \\frac{\\mathrm{Flux\\ of\\ CO_2}}{\\mathrm{Volumetric\\ CO_2\\ Capacity\\ of\\ Material}} = \\frac{\\frac{c^*}{z} \\left(\\frac{(1-\\varepsilon)\\mathcal{P}_l + \\varepsilon\\mathcal{P}_s}{S_s}\\right)}{(1-\\varepsilon) w_0}\n",
    "$$\n",
    "\n",
    "$$\n",
    "\\frac{dz}{dt}= \\frac{c^*}{zw_0\\mathcal{S}_s}\\left(\\mathcal{P}_l + \\frac{\\varepsilon}{1-\\varepsilon}\\mathcal{P}_s\\right) \\equiv \\frac{C_1}{z}\n",
    "$$\n",
    "\n",
    "Integrating this from $z = 0$ at $t = 0$ (initially, there is no saturated zone) gives:\n",
    "\n",
    "$$\n",
    "z = \\sqrt{2C_1t}\n",
    "$$\n",
    "where the constant is given by:\n",
    "\n",
    "$$\n",
    "C_1 = \\frac{c^*}{w_0\\mathcal{S}_s}\\left(\\mathcal{P}_l + \\frac{\\varepsilon}{1-\\varepsilon}\\mathcal{P}_s\\right)\n",
    "$$\n",
    "\n",
    "Now, $z(t)$ is the width of the saturated zone, but we can't see this directly. However, if the reaction zone has moved half-way into the material (so $z = L/2$) then half of the material will be saturated, and the material will have absorbed half of its total CO2 capacity. In general, the fractional saturation of the material, $\\xi$ (which varies from 0 initially to 1 at complete saturation) is given by:\n",
    "\n",
    "$$\n",
    "\\xi(t) = \\frac{z(t)}{L} = \\frac{\\sqrt{2C_1t}}{L}\n",
    "$$\n",
    "\n",
    "where $L$ is the thickness of the SIP. \n",
    "\n",
    "The total moles of CO2 absorbed is given by:\n",
    "\n",
    "$$\n",
    "n_{CO2}(t) = z(t) \\times (1-\\varepsilon)w_0 \\times A = (1-\\varepsilon)w_0A\\sqrt{2C_1t}\n",
    "$$\n",
    "\n",
    "where $A$ is the surface area of the material. The mols of CO2 absorbed per unit volume of SIP is given by:\n",
    "\n",
    "$$\n",
    "\\frac{n_{CO2}(t)}{V} = \\frac{(1-\\varepsilon)w_0\\sqrt{2C_1t}}{L}\n",
    "$$\n",
    "\n",
    "## Comparison with Experiment\n",
    "\n",
    "In Kun-Yi Lin's Thesis (Table 8-1), the diffusivity of CO2 inside several NOHMs was consistently around $2.5\\times 10^{-11} \\mathrm{\\ m^2/s}$. The physical solubility of NOHMs inside NOHM-I-PE2070 appears to be around $10^{-3}\\ \\mathrm{mol/m^3Pa}$ (see doi: 10.1039/C1CP22631B and 10.1021/je200623b). This gives a permeability of $2.5 \\times 10^{-14} \\ \\mathrm{m^2/s}$. Meanwhile, the permeability of CO2 in the PDMS will likely be around 3300 barrer (at least without the N2 present) which corresponds to $1.1\\times10^{-12}\\ \\mathrm{mol/m.Pa.s}$. This is two orders of magnitude larger than the permeability in the NOHM, so the latter can be ignored, and $C_1$ may be approximated as:\n",
    "\n",
    "\n",
    "$$\n",
    "C_1 \\approx \\frac{c^*}{w_0\\mathcal{S}_s}\\left(\\frac{\\varepsilon}{1-\\varepsilon}\\mathcal{P}_s\\right)\n",
    "$$\n",
    "\n",
    "Furthermore, $c^*/\\mathcal{S}_s = p_{\\mathrm{CO_2}}$, and so\n",
    "\n",
    "$$\n",
    "C_1 \\approx \\frac{p_{\\mathrm{CO_2}}}{w_o}\\left(\\frac{\\varepsilon}{1-\\varepsilon}\\mathcal{P}_s\\right)\n",
    "$$\n",
    "\n",
    "The weight-based chemical capacity of these SIPs seems to be about $5.8 \\mathrm{mol/kg}$, based on Guanhe's data. If we assume they have a specific gravity of 1 (I'm not sure this is reasonable, but couldn't find any data) this gives us a volumetric capacity of $w_0 = 5800 \\ \\mathrm{mol/m^3}$. If we also assume the PDMS has a specific gravity of 1 (probably reasonable), then this gives $\\varepsilon \\approx 0.66$ for the material investigated by Guanhe. $p_{CO2}$ was 100 000 Pa, and $L$ was 0.001 m. This gives us enough data to calculate $C_1$ and the $\\xi(t)$ using the equations above."
   ]
  },
  {
   "cell_type": "code",
   "execution_count": null,
   "metadata": {
    "collapsed": false
   },
   "outputs": [],
   "source": [
    "using Plots\n",
    "using LaTeXStrings\n",
    "pCO2 = 1e5          #CO2 Partial Pressure, Pa\n",
    "Ps = 1.1e-12        #Permeability of PDMS, mol/m.Pa.s\n",
    "w0 = 5800           #Total chemical capacity of NOHM Material, mol/m3\n",
    "ε = 0.66            #Solid volume fraction\n",
    "L = 1e-3            #Thickness of SIP\n",
    "\n",
    "C1 = pCO2/w0*(ε/(1-ε) * Ps)          #Constant, m2/s\n",
    "tvals = LinRange(0,2e4,100)         #Time values, s\n",
    "ξ = @. sqrt(2*C1*tvals)/L           #Degree of Saturation of SIP (the @. is a julia quirk required when multiplying scalars and arrays.)\n",
    "\n",
    "#Absorption stops when the moving front hits the bottom of the material, \n",
    "#at which point the Degree of Saturation = 1:\n",
    "for i = 1:100 \n",
    "    if ξ[i] > 1 \n",
    "        ξ[i] = 1\n",
    "    end \n",
    "end\n",
    "\n",
    "#We can estimate the value of z(t) from Guanhe's Data\n",
    "MaxCapacity = 5.8;\n",
    "CapacityAtHalfHour = 1.4; CapacityAtHour = 3.5; CapacityAtHourAndHalf = 4.6; CapacityAtTwoHour = 5.2; CapacityAtThreeHour = 5.7\n",
    "ExpzVals = [0.0,CapacityAtHalfHour, CapacityAtHour, CapacityAtHourAndHalf, CapacityAtTwoHour, CapacityAtThreeHour, MaxCapacity]/MaxCapacity\n",
    "ExptVals = [0.0,0.5,1,1.5,2,3,5]\n",
    "\n",
    "#Make Plot\n",
    "Plots.scalefontsizes(); Plots.scalefontsizes(1.2)\n",
    "plot(tvals/3600, ξ, lw = 2, color=:black, label = L\"\\mathrm{Degree\\ of\\ Saturation}\", xlabel = L\"\\mathrm{time\\ (h)}\", ylabel = L\"\\mathrm{Degree\\ of\\ Saturation}\")\n",
    "#plot!([0,5.5], [1,1], lw = 1, color=:black, linestyle= :dash, label = \"Material Thickness\", legend = :bottomright)\n",
    "plot!(ExptVals, ExpzVals, marker=:circle, color=:black, lw = 1, linestyle=:dash, label=L\"\\mathrm{Experimental\\ Data\\ Points}\", legend = :bottomright, xlims = (0,5.5), ylims = (0,1.2))"
   ]
  },
  {
   "cell_type": "markdown",
   "metadata": {},
   "source": [
    "The basic model seems to be in quite reasonable agreement with the data - it certainly predicts the time-to-saturation reasonably well. I suspect that more accurate information on the physical properties of the NOHM will help. In particular, if the NOHM density is larger, then the volume fraction of the polymer, $\\varepsilon$, will be greater. If we suppose the specific gravity of the NOHM were 1.5 instead of 1, then we'd have $\\varepsilon = 0.75$, which gives us a much better fit:"
   ]
  },
  {
   "cell_type": "code",
   "execution_count": null,
   "metadata": {
    "collapsed": false
   },
   "outputs": [],
   "source": [
    "using Plots\n",
    "using LaTeXStrings\n",
    "pCO2 = 1e5          #CO2 Partial Pressure, Pa\n",
    "Ps = 1.1e-12        #Permeability of PDMS, mol/m.Pa.s\n",
    "w0 = 5800           #Total chemical capacity of NOHM Material, mol/m3\n",
    "ε = 0.75            #Solid volume fraction\n",
    "L = 1e-3            #Thickness of SIP\n",
    "\n",
    "C1 = pCO2/w0*(ε/(1-ε) * Ps)          #Constant, m2/s\n",
    "tvals = LinRange(0,2e4,100)         #Time values, s\n",
    "ξ = @. sqrt(2*C1*tvals)/L           #Degree of Saturation of SIP (the @. is a julia quirk required when multiplying scalars and arrays.)\n",
    "\n",
    "#Absorption stops when the moving front hits the bottom of the material, \n",
    "#at which point the Degree of Saturation = 1:\n",
    "for i = 1:100 \n",
    "    if ξ[i] > 1 \n",
    "        ξ[i] = 1\n",
    "    end \n",
    "end\n",
    "\n",
    "#We can estimate the value of z(t) from Guanhe's Data\n",
    "MaxCapacity = 5.8;\n",
    "CapacityAtHalfHour = 1.4; CapacityAtHour = 3.5; CapacityAtHourAndHalf = 4.6; CapacityAtTwoHour = 5.2; CapacityAtThreeHour = 5.7\n",
    "ExpzVals = [0.0,CapacityAtHalfHour, CapacityAtHour, CapacityAtHourAndHalf, CapacityAtTwoHour, CapacityAtThreeHour, MaxCapacity]/MaxCapacity\n",
    "ExptVals = [0.0,0.5,1,1.5,2,3,5]\n",
    "\n",
    "#Make Plot\n",
    "Plots.scalefontsizes(); Plots.scalefontsizes(1.2)\n",
    "plot(tvals/3600, ξ, lw = 2, color=:black, label = L\"\\mathrm{Degree\\ of\\ Saturation}\", xlabel = L\"\\mathrm{time\\ (h)}\", ylabel = L\"\\mathrm{Degree\\ of\\ Saturation}\")\n",
    "#plot!([0,5.5], [1,1], lw = 1, color=:black, linestyle= :dash, label = \"Material Thickness\", legend = :bottomright)\n",
    "plot!(ExptVals, ExpzVals, marker=:circle, color=:black, lw = 1, linestyle=:dash, label=L\"\\mathrm{Experimental\\ Data\\ Points}\", legend = :bottomright, xlims = (0,5.5), ylims = (0,1.2))"
   ]
  },
  {
   "cell_type": "code",
   "execution_count": null,
   "metadata": {
    "collapsed": true
   },
   "outputs": [],
   "source": []
  },
  {
   "cell_type": "code",
   "execution_count": null,
   "metadata": {
    "collapsed": true
   },
   "outputs": [],
   "source": []
  },
  {
   "cell_type": "code",
   "execution_count": null,
   "metadata": {
    "collapsed": true
   },
   "outputs": [],
   "source": []
  },
  {
   "cell_type": "code",
   "execution_count": null,
   "metadata": {
    "collapsed": true
   },
   "outputs": [],
   "source": []
  },
  {
   "cell_type": "code",
   "execution_count": null,
   "metadata": {
    "collapsed": true
   },
   "outputs": [],
   "source": []
  },
  {
   "cell_type": "code",
   "execution_count": null,
   "metadata": {
    "collapsed": true
   },
   "outputs": [],
   "source": []
  },
  {
   "cell_type": "code",
   "execution_count": null,
   "metadata": {
    "collapsed": true
   },
   "outputs": [],
   "source": []
  },
  {
   "cell_type": "code",
   "execution_count": null,
   "metadata": {
    "collapsed": true
   },
   "outputs": [],
   "source": []
  }
 ],
 "metadata": {
  "kernelspec": {
   "display_name": "Julia 1.0.2",
   "language": "julia",
   "name": "julia-1.0"
  },
  "language_info": {
   "file_extension": ".jl",
   "mimetype": "application/julia",
   "name": "julia",
   "version": "1.0.2"
  }
 },
 "nbformat": 4,
 "nbformat_minor": 2
}
